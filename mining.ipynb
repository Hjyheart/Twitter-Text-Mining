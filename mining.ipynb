{
 "cells": [
  {
   "cell_type": "code",
   "execution_count": 139,
   "metadata": {},
   "outputs": [],
   "source": [
    "import pandas as pd\n",
    "import numpy as np\n",
    "import nltk\n",
    "from nltk.tokenize import word_tokenize\n",
    "from nltk.corpus import stopwords\n",
    "from nltk.stem.lancaster import LancasterStemmer\n",
    "from gensim import corpora,models,similarities"
   ]
  },
  {
   "cell_type": "markdown",
   "metadata": {},
   "source": [
    "## Load and Preview"
   ]
  },
  {
   "cell_type": "code",
   "execution_count": 140,
   "metadata": {},
   "outputs": [],
   "source": [
    "# Load datasets\n",
    "democracy_df = pd.read_csv('./democracy.csv')\n",
    "republic_df = pd.read_csv('./republic.csv')"
   ]
  },
  {
   "cell_type": "code",
   "execution_count": 141,
   "metadata": {},
   "outputs": [
    {
     "data": {
      "text/html": [
       "<div>\n",
       "<style scoped>\n",
       "    .dataframe tbody tr th:only-of-type {\n",
       "        vertical-align: middle;\n",
       "    }\n",
       "\n",
       "    .dataframe tbody tr th {\n",
       "        vertical-align: top;\n",
       "    }\n",
       "\n",
       "    .dataframe thead th {\n",
       "        text-align: right;\n",
       "    }\n",
       "</style>\n",
       "<table border=\"1\" class=\"dataframe\">\n",
       "  <thead>\n",
       "    <tr style=\"text-align: right;\">\n",
       "      <th></th>\n",
       "      <th>Unnamed: 0</th>\n",
       "      <th>id</th>\n",
       "      <th>party_type</th>\n",
       "      <th>name</th>\n",
       "      <th>screen_name</th>\n",
       "      <th>location</th>\n",
       "      <th>description</th>\n",
       "      <th>protected</th>\n",
       "      <th>geo_enabled</th>\n",
       "      <th>verified</th>\n",
       "      <th>entities</th>\n",
       "      <th>statuses_count</th>\n",
       "      <th>has_extended_profile</th>\n",
       "      <th>followers_count</th>\n",
       "      <th>friends_count</th>\n",
       "      <th>favourites_count</th>\n",
       "    </tr>\n",
       "  </thead>\n",
       "  <tbody>\n",
       "    <tr>\n",
       "      <th>0</th>\n",
       "      <td>0</td>\n",
       "      <td>904662446</td>\n",
       "      <td>d</td>\n",
       "      <td>Luz Marina Tarazona</td>\n",
       "      <td>Luzbendecida</td>\n",
       "      <td>Maracaibo Venezuela</td>\n",
       "      <td>Bendecida y prosperada en Cristo Jesús 😚🤗</td>\n",
       "      <td>False</td>\n",
       "      <td>True</td>\n",
       "      <td>False</td>\n",
       "      <td>False</td>\n",
       "      <td>4718</td>\n",
       "      <td>True</td>\n",
       "      <td>312</td>\n",
       "      <td>1523</td>\n",
       "      <td>2359</td>\n",
       "    </tr>\n",
       "    <tr>\n",
       "      <th>1</th>\n",
       "      <td>1</td>\n",
       "      <td>23614054</td>\n",
       "      <td>d</td>\n",
       "      <td>becky lou</td>\n",
       "      <td>ruatwitt</td>\n",
       "      <td>Former USA</td>\n",
       "      <td>Wife of Carter and proud mom of Emmitt. Lover ...</td>\n",
       "      <td>False</td>\n",
       "      <td>False</td>\n",
       "      <td>False</td>\n",
       "      <td>False</td>\n",
       "      <td>5132</td>\n",
       "      <td>False</td>\n",
       "      <td>236</td>\n",
       "      <td>460</td>\n",
       "      <td>20456</td>\n",
       "    </tr>\n",
       "  </tbody>\n",
       "</table>\n",
       "</div>"
      ],
      "text/plain": [
       "   Unnamed: 0         id party_type                 name   screen_name  \\\n",
       "0           0  904662446          d  Luz Marina Tarazona  Luzbendecida   \n",
       "1           1   23614054          d            becky lou      ruatwitt   \n",
       "\n",
       "              location                                        description  \\\n",
       "0  Maracaibo Venezuela          Bendecida y prosperada en Cristo Jesús 😚🤗   \n",
       "1           Former USA  Wife of Carter and proud mom of Emmitt. Lover ...   \n",
       "\n",
       "   protected  geo_enabled  verified  entities  statuses_count  \\\n",
       "0      False         True     False     False            4718   \n",
       "1      False        False     False     False            5132   \n",
       "\n",
       "   has_extended_profile  followers_count  friends_count  favourites_count  \n",
       "0                  True              312           1523              2359  \n",
       "1                 False              236            460             20456  "
      ]
     },
     "execution_count": 141,
     "metadata": {},
     "output_type": "execute_result"
    }
   ],
   "source": [
    "# Democracy basic info\n",
    "democracy_df.head(2)"
   ]
  },
  {
   "cell_type": "code",
   "execution_count": 142,
   "metadata": {},
   "outputs": [
    {
     "data": {
      "text/plain": [
       "Unnamed: 0              15077\n",
       "id                      15077\n",
       "party_type              15077\n",
       "name                    15075\n",
       "screen_name             15077\n",
       "location                11856\n",
       "description             13796\n",
       "protected               15077\n",
       "geo_enabled             15077\n",
       "verified                15077\n",
       "entities                15077\n",
       "statuses_count          15077\n",
       "has_extended_profile    15077\n",
       "followers_count         15077\n",
       "friends_count           15077\n",
       "favourites_count        15077\n",
       "dtype: int64"
      ]
     },
     "execution_count": 142,
     "metadata": {},
     "output_type": "execute_result"
    }
   ],
   "source": [
    "democracy_df.count()"
   ]
  },
  {
   "cell_type": "code",
   "execution_count": 143,
   "metadata": {},
   "outputs": [
    {
     "data": {
      "text/html": [
       "<div>\n",
       "<style scoped>\n",
       "    .dataframe tbody tr th:only-of-type {\n",
       "        vertical-align: middle;\n",
       "    }\n",
       "\n",
       "    .dataframe tbody tr th {\n",
       "        vertical-align: top;\n",
       "    }\n",
       "\n",
       "    .dataframe thead th {\n",
       "        text-align: right;\n",
       "    }\n",
       "</style>\n",
       "<table border=\"1\" class=\"dataframe\">\n",
       "  <thead>\n",
       "    <tr style=\"text-align: right;\">\n",
       "      <th></th>\n",
       "      <th>Unnamed: 0</th>\n",
       "      <th>id</th>\n",
       "      <th>party_type</th>\n",
       "      <th>name</th>\n",
       "      <th>screen_name</th>\n",
       "      <th>location</th>\n",
       "      <th>description</th>\n",
       "      <th>protected</th>\n",
       "      <th>geo_enabled</th>\n",
       "      <th>verified</th>\n",
       "      <th>entities</th>\n",
       "      <th>statuses_count</th>\n",
       "      <th>has_extended_profile</th>\n",
       "      <th>followers_count</th>\n",
       "      <th>friends_count</th>\n",
       "      <th>favourites_count</th>\n",
       "    </tr>\n",
       "  </thead>\n",
       "  <tbody>\n",
       "    <tr>\n",
       "      <th>0</th>\n",
       "      <td>0</td>\n",
       "      <td>53240401</td>\n",
       "      <td>r</td>\n",
       "      <td>Erik Dobell</td>\n",
       "      <td>erikdobell</td>\n",
       "      <td>Tennessee, USA</td>\n",
       "      <td>Gatlinburg based Mentalist. See more at - http...</td>\n",
       "      <td>False</td>\n",
       "      <td>True</td>\n",
       "      <td>False</td>\n",
       "      <td>True</td>\n",
       "      <td>20360.0</td>\n",
       "      <td>True</td>\n",
       "      <td>7557.0</td>\n",
       "      <td>7916.0</td>\n",
       "      <td>5908.0</td>\n",
       "    </tr>\n",
       "    <tr>\n",
       "      <th>1</th>\n",
       "      <td>1</td>\n",
       "      <td>33698579</td>\n",
       "      <td>r</td>\n",
       "      <td>SAB</td>\n",
       "      <td>HuntBeach12</td>\n",
       "      <td>NaN</td>\n",
       "      <td>Seahawks and Huskies forever</td>\n",
       "      <td>False</td>\n",
       "      <td>False</td>\n",
       "      <td>False</td>\n",
       "      <td>False</td>\n",
       "      <td>6502.0</td>\n",
       "      <td>True</td>\n",
       "      <td>268.0</td>\n",
       "      <td>740.0</td>\n",
       "      <td>5318.0</td>\n",
       "    </tr>\n",
       "  </tbody>\n",
       "</table>\n",
       "</div>"
      ],
      "text/plain": [
       "  Unnamed: 0        id party_type         name  screen_name        location  \\\n",
       "0          0  53240401          r  Erik Dobell   erikdobell  Tennessee, USA   \n",
       "1          1  33698579          r          SAB  HuntBeach12             NaN   \n",
       "\n",
       "                                         description protected geo_enabled  \\\n",
       "0  Gatlinburg based Mentalist. See more at - http...     False        True   \n",
       "1                       Seahawks and Huskies forever     False       False   \n",
       "\n",
       "  verified entities  statuses_count has_extended_profile  followers_count  \\\n",
       "0    False     True         20360.0                 True           7557.0   \n",
       "1    False    False          6502.0                 True            268.0   \n",
       "\n",
       "   friends_count  favourites_count  \n",
       "0         7916.0            5908.0  \n",
       "1          740.0            5318.0  "
      ]
     },
     "execution_count": 143,
     "metadata": {},
     "output_type": "execute_result"
    }
   ],
   "source": [
    "# Republic basic info\n",
    "republic_df.head(2)"
   ]
  },
  {
   "cell_type": "code",
   "execution_count": 144,
   "metadata": {},
   "outputs": [
    {
     "data": {
      "text/plain": [
       "Unnamed: 0              15042\n",
       "id                      15040\n",
       "party_type              15040\n",
       "name                    15039\n",
       "screen_name             15040\n",
       "location                10833\n",
       "description             13424\n",
       "protected               15038\n",
       "geo_enabled             15038\n",
       "verified                15038\n",
       "entities                15036\n",
       "statuses_count          15036\n",
       "has_extended_profile    15036\n",
       "followers_count         15036\n",
       "friends_count           15036\n",
       "favourites_count        15036\n",
       "dtype: int64"
      ]
     },
     "execution_count": 144,
     "metadata": {},
     "output_type": "execute_result"
    }
   ],
   "source": [
    "republic_df.count()"
   ]
  },
  {
   "cell_type": "code",
   "execution_count": 145,
   "metadata": {},
   "outputs": [
    {
     "name": "stdout",
     "output_type": "stream",
     "text": [
      "1281\n",
      "1618\n"
     ]
    }
   ],
   "source": [
    "# Count users have no description\n",
    "print(len(democracy_df[democracy_df['description'].isna().values==True]))\n",
    "print(len(republic_df[republic_df['description'].isna().values==True]))"
   ]
  },
  {
   "cell_type": "code",
   "execution_count": 146,
   "metadata": {},
   "outputs": [],
   "source": [
    "# Remove those users\n",
    "democracy_df = democracy_df[democracy_df['description'].isna().values==False]\n",
    "republic_df = republic_df[republic_df['description'].isna().values==False]"
   ]
  },
  {
   "cell_type": "markdown",
   "metadata": {},
   "source": [
    "## Text Processing"
   ]
  },
  {
   "cell_type": "code",
   "execution_count": 151,
   "metadata": {},
   "outputs": [],
   "source": [
    "# Punctuations and Stopwords\n",
    "english_punctuations = [',', '.', ':', ';', '?', '(', ')', '[', ']', '&', '!', '*', '@', '#', '$', '%','-', '|', '•', \\\n",
    " 'i', '...', '/', '’', '||', '//', '‘', '+', '~', '-']\n",
    "english_stopwords = stopwords.words('english')"
   ]
  },
  {
   "cell_type": "code",
   "execution_count": 152,
   "metadata": {},
   "outputs": [],
   "source": [
    "# desc of d\n",
    "desc_d = democracy_df['description'].tolist()\n",
    "desc_d_tokenized = [word_tokenize(d) for d in desc_d]\n",
    "# desc of r\n",
    "desc_r = republic_df['description'].tolist()\n",
    "desc_r_tokenized = [word_tokenize(d) for d in desc_r]"
   ]
  },
  {
   "cell_type": "code",
   "execution_count": 153,
   "metadata": {},
   "outputs": [],
   "source": [
    "# Remove punctuations and stopwords\n",
    "desc_d_filtered = [[word for word in document if not word in english_punctuations] for document in desc_d_tokenized]\n",
    "desc_r_filtered = [[word for word in document if not word in english_punctuations] for document in desc_r_tokenized]\n",
    "desc_d_filtered = [[word for word in document if not word in english_stopwords] for document in desc_d_filtered]\n",
    "desc_r_filtered = [[word for word in document if not word in english_stopwords] for document in desc_r_filtered]"
   ]
  },
  {
   "cell_type": "code",
   "execution_count": 154,
   "metadata": {},
   "outputs": [],
   "source": [
    "# Stemming\n",
    "st = LancasterStemmer()\n",
    "desc_d_stemmed = [[st.stem(word) for word in document] for document in desc_d_filtered]\n",
    "desc_r_stemmed = [[st.stem(word) for word in document] for document in desc_r_filtered]"
   ]
  },
  {
   "cell_type": "code",
   "execution_count": 155,
   "metadata": {},
   "outputs": [],
   "source": [
    "# Remove low frequncy words\n",
    "all_stems_d = sum(desc_d_stemmed, [])\n",
    "all_stems_r = sum(desc_r_stemmed, [])\n",
    "stems_once_d = set(stem for stem in set(all_stems_d) if all_stems_d.count(stem) == 1 or len(stem) < 4)\n",
    "stems_once_r = set(stem for stem in set(all_stems_r) if all_stems_r.count(stem) == 1 or len(stem) < 4)\n",
    "texts_d = [[stem for stem in text if stem not in stems_once_d] for text in desc_d_stemmed]\n",
    "texts_r = [[stem for stem in text if stem not in stems_once_r] for text in desc_r_stemmed]"
   ]
  },
  {
   "cell_type": "code",
   "execution_count": 158,
   "metadata": {},
   "outputs": [],
   "source": [
    "# Form corpora\n",
    "dic_d = corpora.Dictionary(texts_d)\n",
    "dic_r = corpora.Dictionary(texts_r)"
   ]
  },
  {
   "cell_type": "code",
   "execution_count": 159,
   "metadata": {},
   "outputs": [],
   "source": [
    "# Save model\n",
    "dic_d.save('./dic_d.plk')\n",
    "dic_r.save('./dic_r.pkl')"
   ]
  },
  {
   "cell_type": "code",
   "execution_count": 166,
   "metadata": {},
   "outputs": [],
   "source": [
    "# Get tf\n",
    "# top100_d_id = sorted(dic_d.dfs.items(), key=lambda x: x[1], reverse=True)[:100]\n",
    "# top100_r_id = sorted(dic_r.dfs.items(), key=lambda x: x[1], reverse=True)[:100]\n",
    "# top100_d = []\n",
    "# top100_r = []\n",
    "# for i in top100_d_id:\n",
    "#     top100_d.append(list(dic_d.token2id)[i[0]])\n",
    "# for i in top100_r_id:\n",
    "#     top100_r.append(list(dic_r.token2id)[i[0]])"
   ]
  },
  {
   "cell_type": "code",
   "execution_count": 161,
   "metadata": {},
   "outputs": [],
   "source": [
    "# Tfidf\n",
    "dic_d_corpus = [dic_d.doc2bow(text) for text in desc_d_stemmed]\n",
    "tfidf_d = models.TfidfModel(dic_d_corpus)\n",
    "dic_r_corpus = [dic_r.doc2bow(text) for text in desc_r_stemmed]\n",
    "tfidf_r = models.TfidfModel(dic_r_corpus)"
   ]
  },
  {
   "cell_type": "code",
   "execution_count": 162,
   "metadata": {},
   "outputs": [],
   "source": [
    "# Save model\n",
    "tfidf_d.save('./tfidf_d.pkl')\n",
    "tfidf_r.save('./tfidf_r.pkl')"
   ]
  },
  {
   "cell_type": "code",
   "execution_count": 163,
   "metadata": {},
   "outputs": [],
   "source": [
    "res_d = {}\n",
    "res_r = {}"
   ]
  },
  {
   "cell_type": "code",
   "execution_count": 164,
   "metadata": {},
   "outputs": [],
   "source": [
    "for d in texts_d:\n",
    "    weights = tfidf_d[dic_d.doc2bow(d)]\n",
    "    weights = sorted(weights, key=lambda x: x[1], reverse=True)[:3]\n",
    "    for item in weights:\n",
    "        if item[0] in res_d.keys():\n",
    "            res_d[item[0]] += 1\n",
    "        else:\n",
    "            res_d[item[0]] = 1\n",
    "            \n",
    "for d in texts_r:\n",
    "    weights = tfidf_r[dic_r.doc2bow(d)]\n",
    "    weights = sorted(weights, key=lambda x: x[1], reverse=True)[:3]\n",
    "    for item in weights:\n",
    "        if item[0] in res_r.keys():\n",
    "            res_r[item[0]] += 1\n",
    "        else:\n",
    "            res_r[item[0]] = 1"
   ]
  },
  {
   "cell_type": "code",
   "execution_count": 165,
   "metadata": {},
   "outputs": [],
   "source": [
    "sorted_weights_d = sorted(res_d.items(), key=lambda x: x[1], reverse=True)\n",
    "sorted_weights_r = sorted(res_r.items(), key=lambda x: x[1], reverse=True)"
   ]
  },
  {
   "cell_type": "code",
   "execution_count": 167,
   "metadata": {},
   "outputs": [],
   "source": [
    "top100_d = []\n",
    "top100_r = []"
   ]
  },
  {
   "cell_type": "code",
   "execution_count": 168,
   "metadata": {},
   "outputs": [],
   "source": [
    "for item in sorted_weights_d[:100]:\n",
    "    top100_d.append(dic_d[item[0]])\n",
    "for item in sorted_weights_r[:100]:\n",
    "    top100_r.append(dic_r[item[0]])"
   ]
  },
  {
   "cell_type": "code",
   "execution_count": 169,
   "metadata": {},
   "outputs": [],
   "source": [
    "# Save most popular words\n",
    "with open('top100_d.txt', 'w') as f:\n",
    "    f.write(str(top100_d))\n",
    "    f.close()\n",
    "with open('top100_r.txt', 'w') as f:\n",
    "    f.write(str(top100_r))\n",
    "    f.close()"
   ]
  },
  {
   "cell_type": "markdown",
   "metadata": {},
   "source": [
    "## Put Democracy & Republic Together"
   ]
  },
  {
   "cell_type": "code",
   "execution_count": 174,
   "metadata": {},
   "outputs": [],
   "source": [
    "total_df = pd.concat([democracy_df, republic_df])"
   ]
  },
  {
   "cell_type": "code",
   "execution_count": 175,
   "metadata": {},
   "outputs": [],
   "source": [
    "total_df = total_df[total_df['description'].isna().values==False]"
   ]
  },
  {
   "cell_type": "code",
   "execution_count": 176,
   "metadata": {},
   "outputs": [],
   "source": [
    "# Punctuations and Stopwords\n",
    "english_punctuations = [',', '.', ':', ';', '?', '(', ')', '[', ']', '&', '!', '*', '@', '#', '$', '%','-', '|', '•', \\\n",
    " 'i', '...', '/', '’', '||', '//', '‘', '+', '~', '-']\n",
    "english_stopwords = stopwords.words('english')"
   ]
  },
  {
   "cell_type": "code",
   "execution_count": 177,
   "metadata": {},
   "outputs": [],
   "source": [
    "# desc of total\n",
    "desc_t = total_df['description'].tolist()\n",
    "desc_t_tokenized = [word_tokenize(d) for d in desc_t]"
   ]
  },
  {
   "cell_type": "code",
   "execution_count": 178,
   "metadata": {},
   "outputs": [],
   "source": [
    "# Remove punctuations and stopwords\n",
    "desc_t_filtered = [[word for word in document if not word in english_punctuations] for document in desc_t_tokenized]\n",
    "desc_t_filtered = [[word for word in document if not word in english_stopwords] for document in desc_t_filtered]"
   ]
  },
  {
   "cell_type": "code",
   "execution_count": 179,
   "metadata": {},
   "outputs": [],
   "source": [
    "# Stemming\n",
    "st = LancasterStemmer()\n",
    "desc_t_stemmed = [[st.stem(word) for word in document] for document in desc_t_filtered]"
   ]
  },
  {
   "cell_type": "code",
   "execution_count": 180,
   "metadata": {},
   "outputs": [],
   "source": [
    "# Remove low frequncy words\n",
    "all_stems_t = sum(desc_t_stemmed, [])\n",
    "stems_once_t = set(stem for stem in set(all_stems_t) if all_stems_t.count(stem) == 1 or len(stem) < 4)\n",
    "texts_t = [[stem for stem in text if stem not in stems_once_t] for text in desc_t_stemmed]"
   ]
  },
  {
   "cell_type": "code",
   "execution_count": 181,
   "metadata": {},
   "outputs": [],
   "source": [
    "# Form corpora\n",
    "dic_t = corpora.Dictionary(texts_t)\n",
    "# Save model\n",
    "dic_t.save('./dic_t.plk')"
   ]
  },
  {
   "cell_type": "code",
   "execution_count": 182,
   "metadata": {},
   "outputs": [],
   "source": [
    "# Tfidf\n",
    "dic_t_corpus = [dic_t.doc2bow(text) for text in desc_t_stemmed]\n",
    "tfidf = models.TfidfModel(dic_t_corpus)"
   ]
  },
  {
   "cell_type": "code",
   "execution_count": 183,
   "metadata": {},
   "outputs": [],
   "source": [
    "# Save model\n",
    "tfidf.save('./tfidf_t.pkl')"
   ]
  },
  {
   "cell_type": "code",
   "execution_count": null,
   "metadata": {},
   "outputs": [],
   "source": []
  },
  {
   "cell_type": "code",
   "execution_count": 184,
   "metadata": {},
   "outputs": [],
   "source": [
    "res = {}"
   ]
  },
  {
   "cell_type": "code",
   "execution_count": 185,
   "metadata": {},
   "outputs": [],
   "source": [
    "for d in texts_t:\n",
    "    weights = tfidf[dic_t.doc2bow(d)]\n",
    "    weights = sorted(weights, key=lambda x: x[1], reverse=True)[:3]\n",
    "    for item in weights:\n",
    "        if item[0] in res.keys():\n",
    "            res[item[0]] += 1\n",
    "        else:\n",
    "            res[item[0]] = 1"
   ]
  },
  {
   "cell_type": "code",
   "execution_count": 186,
   "metadata": {},
   "outputs": [],
   "source": [
    "#res"
   ]
  },
  {
   "cell_type": "code",
   "execution_count": 187,
   "metadata": {},
   "outputs": [],
   "source": [
    "sorted_weights = sorted(res.items(), key=lambda x: x[1], reverse=True)"
   ]
  },
  {
   "cell_type": "code",
   "execution_count": 188,
   "metadata": {},
   "outputs": [],
   "source": [
    "top100 = []"
   ]
  },
  {
   "cell_type": "code",
   "execution_count": 189,
   "metadata": {},
   "outputs": [],
   "source": [
    "for item in sorted_weights[:100]:\n",
    "    top100.append(dic_t[item[0]])"
   ]
  },
  {
   "cell_type": "code",
   "execution_count": 190,
   "metadata": {},
   "outputs": [
    {
     "data": {
      "text/plain": [
       "['https',\n",
       " 'trump',\n",
       " 'resist',\n",
       " 'follow',\n",
       " 'support',\n",
       " 'trump2020',\n",
       " 'proud',\n",
       " 'polit',\n",
       " 'wwg1wga',\n",
       " 'presid',\n",
       " 'americ',\n",
       " 'patriot',\n",
       " 'famy',\n",
       " 'country',\n",
       " '2020',\n",
       " 'christian',\n",
       " 'conserv',\n",
       " 'democr',\n",
       " 'just',\n",
       " 'happy',\n",
       " 'real',\n",
       " 'believ',\n",
       " 'twit',\n",
       " 'moth',\n",
       " 'bless',\n",
       " 'grandmoth',\n",
       " 'good',\n",
       " 'work',\n",
       " 'account',\n",
       " 'constitut',\n",
       " 'republ',\n",
       " 'writ',\n",
       " 'husband',\n",
       " 'know',\n",
       " 'world',\n",
       " 'right',\n",
       " 'first',\n",
       " 'journ',\n",
       " 'stand',\n",
       " 'kag2020',\n",
       " 'thing',\n",
       " 'peopl',\n",
       " 'back',\n",
       " 'qanon',\n",
       " 'army',\n",
       " 'marry',\n",
       " 'depl',\n",
       " 'think',\n",
       " 'design',\n",
       " 'retir',\n",
       " 'friend',\n",
       " 'stat',\n",
       " 'busy',\n",
       " 'fath',\n",
       " 'best',\n",
       " 'univers',\n",
       " 'memb',\n",
       " 'freedom',\n",
       " 'everyth',\n",
       " 'dream',\n",
       " 'pleas',\n",
       " 'want',\n",
       " 'hard',\n",
       " 'fight',\n",
       " 'unit',\n",
       " 'alway',\n",
       " 'beauty',\n",
       " 'anim',\n",
       " 'direct',\n",
       " 'govern',\n",
       " 'keep',\n",
       " 'americafirst',\n",
       " 'grandm',\n",
       " 'lord',\n",
       " 'market',\n",
       " 'donald',\n",
       " 'opin',\n",
       " 'person',\n",
       " 'year',\n",
       " 'look',\n",
       " 'draintheswamp',\n",
       " 'profess',\n",
       " 'entrepr',\n",
       " 'technolog',\n",
       " 'produc',\n",
       " 'prol',\n",
       " 'nurs',\n",
       " 'trumptrain',\n",
       " 'buildthewal',\n",
       " 'gmail.com',\n",
       " 'form',\n",
       " 'retweet',\n",
       " 'tweet',\n",
       " 'christ',\n",
       " 'view',\n",
       " 'photograph',\n",
       " 'milit',\n",
       " 'teach',\n",
       " 'endors',\n",
       " 'engin']"
      ]
     },
     "execution_count": 190,
     "metadata": {},
     "output_type": "execute_result"
    }
   ],
   "source": [
    "top100"
   ]
  },
  {
   "cell_type": "code",
   "execution_count": 191,
   "metadata": {},
   "outputs": [],
   "source": [
    "with open('./top100_t.txt', 'w') as f:\n",
    "    f.write(str(top100))\n",
    "    f.close()"
   ]
  },
  {
   "cell_type": "code",
   "execution_count": null,
   "metadata": {},
   "outputs": [],
   "source": []
  },
  {
   "cell_type": "code",
   "execution_count": null,
   "metadata": {},
   "outputs": [],
   "source": []
  },
  {
   "cell_type": "code",
   "execution_count": null,
   "metadata": {},
   "outputs": [],
   "source": []
  }
 ],
 "metadata": {
  "file_extension": ".py",
  "kernelspec": {
   "display_name": "Python 3",
   "language": "python",
   "name": "python3"
  },
  "language_info": {
   "codemirror_mode": {
    "name": "ipython",
    "version": 3
   },
   "file_extension": ".py",
   "mimetype": "text/x-python",
   "name": "python",
   "nbconvert_exporter": "python",
   "pygments_lexer": "ipython3",
   "version": "3.7.4"
  },
  "mimetype": "text/x-python",
  "name": "python",
  "npconvert_exporter": "python",
  "pygments_lexer": "ipython3",
  "version": 3
 },
 "nbformat": 4,
 "nbformat_minor": 2
}
